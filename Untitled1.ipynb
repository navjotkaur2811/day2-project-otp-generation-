{
  "nbformat": 4,
  "nbformat_minor": 0,
  "metadata": {
    "colab": {
      "name": "Untitled1.ipynb",
      "provenance": [],
      "authorship_tag": "ABX9TyOjaglyp7HBPfT6dIUcvWxW",
      "include_colab_link": true
    },
    "kernelspec": {
      "name": "python3",
      "display_name": "Python 3"
    },
    "language_info": {
      "name": "python"
    }
  },
  "cells": [
    {
      "cell_type": "markdown",
      "metadata": {
        "id": "view-in-github",
        "colab_type": "text"
      },
      "source": [
        "<a href=\"https://colab.research.google.com/github/navjotkaur2811/day2-project-otp-generation-/blob/main/Untitled1.ipynb\" target=\"_parent\"><img src=\"https://colab.research.google.com/assets/colab-badge.svg\" alt=\"Open In Colab\"/></a>"
      ]
    },
    {
      "cell_type": "code",
      "metadata": {
        "colab": {
          "base_uri": "https://localhost:8080/"
        },
        "id": "M13TKMmnNKJ_",
        "outputId": "6446cb3a-a477-4ef9-f63e-13ee68ef5d97"
      },
      "source": [
        "#OTP generator project \n",
        "#generating OTP of  digits and uppercase letters  only of length 6\n",
        "import random  as rd\n",
        "import string\n",
        "length = 6\n",
        "otp = ''\n",
        "characters = string.digits + string.ascii_uppercase\n",
        "print(characters)\n",
        "for a in range(length):\n",
        "  otp = otp + rd.choice(characters)\n",
        "print(\"OTP = \", otp )"
      ],
      "execution_count": 13,
      "outputs": [
        {
          "output_type": "stream",
          "text": [
            "0123456789ABCDEFGHIJKLMNOPQRSTUVWXYZ\n",
            "OTP =  1MZL6S\n"
          ],
          "name": "stdout"
        }
      ]
    }
  ]
}